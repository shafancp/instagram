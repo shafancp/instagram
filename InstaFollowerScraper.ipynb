{
  "nbformat": 4,
  "nbformat_minor": 0,
  "metadata": {
    "colab": {
      "provenance": [],
      "authorship_tag": "ABX9TyOEhuJL1ziXm+4a4Tgk3+jh"
    },
    "kernelspec": {
      "name": "python3",
      "display_name": "Python 3"
    },
    "language_info": {
      "name": "python"
    }
  },
  "cells": [
    {
      "cell_type": "code",
      "source": [
        "!pip install instaloader"
      ],
      "metadata": {
        "id": "0nyVYTfNOZV0"
      },
      "execution_count": null,
      "outputs": []
    },
    {
      "cell_type": "code",
      "execution_count": 29,
      "metadata": {
        "id": "MDNu4u_BN2Ec"
      },
      "outputs": [],
      "source": [
        "import pandas as pd\n",
        "import instaloader\n",
        "from urllib.parse import urlparse\n",
        "import csv\n",
        "import time"
      ]
    },
    {
      "cell_type": "code",
      "source": [
        "loader = instaloader.Instaloader()\n",
        "loader.login(\"username\", \"password\")\n",
        "print(\"Login successful!\")"
      ],
      "metadata": {
        "id": "ZzJgi6_SScRk"
      },
      "execution_count": null,
      "outputs": []
    },
    {
      "cell_type": "code",
      "source": [
        "def get_instagram_followers_count(username):\n",
        "    try:\n",
        "        profile = instaloader.Profile.from_username(loader.context, username)\n",
        "        followers_count = profile.followers\n",
        "        return followers_count\n",
        "    except instaloader.exceptions.ProfileNotExistsException:\n",
        "        print(f\"Error: Profile with username '{username}' not found.\")\n",
        "        return None\n",
        "    except instaloader.exceptions.InstaloaderException as e:\n",
        "        print(f\"Error: {e}\")\n",
        "        return None"
      ],
      "metadata": {
        "id": "PWLKIyhDOiKW"
      },
      "execution_count": 25,
      "outputs": []
    },
    {
      "cell_type": "code",
      "source": [
        "def extract_username(url):\n",
        "    parsed_url = urlparse(url)\n",
        "    path_parts = parsed_url.path.split('/')\n",
        "    username = path_parts[1] if len(path_parts) > 1 else None\n",
        "    return username"
      ],
      "metadata": {
        "id": "xaNYolM1OlP7"
      },
      "execution_count": 8,
      "outputs": []
    },
    {
      "cell_type": "code",
      "source": [
        "df = pd.read_csv('urls.csv')\n",
        "data = []\n",
        "for index, row in df.iterrows():\n",
        "    url = row['URL']\n",
        "    username = extract_username(url)\n",
        "    if username:\n",
        "        followers_count = get_instagram_followers_count(username)\n",
        "        data.append([username, url, followers_count])\n",
        "        time.sleep(5)\n",
        "\n",
        "result_df = pd.DataFrame(data, columns=['Username', 'URL', 'Followers'])\n",
        "result_df.to_csv('result.csv', index=False)\n"
      ],
      "metadata": {
        "id": "x2UZiY2MOBQc"
      },
      "execution_count": null,
      "outputs": []
    }
  ]
}